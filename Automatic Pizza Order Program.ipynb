{
 "cells": [
  {
   "cell_type": "code",
   "execution_count": 8,
   "id": "63030a58",
   "metadata": {},
   "outputs": [
    {
     "name": "stdout",
     "output_type": "stream",
     "text": [
      "Welcome to Python Pizza Deliveries\n"
     ]
    }
   ],
   "source": [
    "# Welcome message\n",
    "print(\"Welcome to Python Pizza Deliveries\")"
   ]
  },
  {
   "cell_type": "code",
   "execution_count": 9,
   "id": "72b765f5",
   "metadata": {},
   "outputs": [
    {
     "name": "stdout",
     "output_type": "stream",
     "text": [
      "What size of pizza would you love to buy? (Small, Medium, Large): Large\n",
      "Do you want to add pepperoni? (Yes or No): Yes\n",
      "Do you want extra cheese? (Yes or No): Yes\n"
     ]
    }
   ],
   "source": [
    "# Insert size of pizza to be ordered\n",
    "size = input(\"What size of pizza would you love to buy? (Small, Medium, Large): \")\n",
    "\n",
    "# Insert option to add_pepperoni\n",
    "add_pepperoni = input(\"Do you want to add pepperoni? (Yes or No): \")\n",
    "\n",
    "# Insert option to add extra_cheese\n",
    "extra_cheese = input(\"Do you want extra cheese? (Yes or No): \")"
   ]
  },
  {
   "cell_type": "code",
   "execution_count": 10,
   "id": "fc94f0f9",
   "metadata": {},
   "outputs": [],
   "source": [
    "bill = 0"
   ]
  },
  {
   "cell_type": "code",
   "execution_count": 11,
   "id": "56e52a4b",
   "metadata": {},
   "outputs": [],
   "source": [
    "if size == \"Small\":\n",
    "    bill += 15\n",
    "elif size == \"Medium\":\n",
    "    bill += 20\n",
    "elif size == \"Large\":\n",
    "    bill += 25\n",
    "else:\n",
    "    print = (\"Write your prefered size.\")\n"
   ]
  },
  {
   "cell_type": "code",
   "execution_count": 12,
   "id": "4c301a6d",
   "metadata": {},
   "outputs": [],
   "source": [
    "# adding pepperoni to order\n",
    "if add_pepperoni == \"Yes\":\n",
    "    if size == \"Small\":\n",
    "        bill += 2\n",
    "    else:\n",
    "        bill += 3"
   ]
  },
  {
   "cell_type": "code",
   "execution_count": 13,
   "id": "33f35a08",
   "metadata": {},
   "outputs": [],
   "source": [
    "# option for cheese\n",
    "if extra_cheese == \"Yes\":\n",
    "    bill += 1"
   ]
  },
  {
   "cell_type": "code",
   "execution_count": 14,
   "id": "8b49b6c8",
   "metadata": {},
   "outputs": [
    {
     "name": "stdout",
     "output_type": "stream",
     "text": [
      "Your bill is: $29.\n"
     ]
    }
   ],
   "source": [
    "# print final bill\n",
    "print(f\"Your bill is: ${bill}.\")"
   ]
  }
 ],
 "metadata": {
  "kernelspec": {
   "display_name": "Python 3 (ipykernel)",
   "language": "python",
   "name": "python3"
  },
  "language_info": {
   "codemirror_mode": {
    "name": "ipython",
    "version": 3
   },
   "file_extension": ".py",
   "mimetype": "text/x-python",
   "name": "python",
   "nbconvert_exporter": "python",
   "pygments_lexer": "ipython3",
   "version": "3.11.5"
  }
 },
 "nbformat": 4,
 "nbformat_minor": 5
}
